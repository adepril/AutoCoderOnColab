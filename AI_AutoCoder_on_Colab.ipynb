{
  "nbformat": 4,
  "nbformat_minor": 0,
  "metadata": {
    "colab": {
      "provenance": [],
      "authorship_tag": "ABX9TyMNCjDgBHgts2xmVJ2fnkj9",
      "include_colab_link": true
    },
    "kernelspec": {
      "name": "python3",
      "display_name": "Python 3"
    },
    "language_info": {
      "name": "python"
    }
  },
  "cells": [
    {
      "cell_type": "markdown",
      "metadata": {
        "id": "view-in-github",
        "colab_type": "text"
      },
      "source": [
        "<a href=\"https://colab.research.google.com/github/adepril/AutoCoderOnColab/blob/main/AI_AutoCoder_on_Colab.ipynb\" target=\"_parent\"><img src=\"https://colab.research.google.com/assets/colab-badge.svg\" alt=\"Open In Colab\"/></a>"
      ]
    },
    {
      "cell_type": "markdown",
      "source": [
        "## AutoCoder on Google Colab"
      ],
      "metadata": {
        "id": "2mlxoJDeK3lx"
      }
    },
    {
      "cell_type": "code",
      "source": [
        "!pip install llama-cpp-python"
      ],
      "metadata": {
        "id": "DoTGjwObLNmY"
      },
      "execution_count": null,
      "outputs": []
    },
    {
      "cell_type": "code",
      "source": [
        "import torch"
      ],
      "metadata": {
        "id": "bOpyDyq7LY3x"
      },
      "execution_count": 3,
      "outputs": []
    },
    {
      "cell_type": "code",
      "source": [
        "from llama_cpp import Llama"
      ],
      "metadata": {
        "id": "U6LapIwmLYp9"
      },
      "execution_count": 4,
      "outputs": []
    },
    {
      "cell_type": "code",
      "source": [
        "llm = Llama(\n",
        "      model_path=\"AutoCoder_S_6.7B-q5_k_m.gguf\",\n",
        "      n_gpu_layers=32,\n",
        "      seed=1337,\n",
        "      n_ctx=2048,\n",
        ")"
      ],
      "metadata": {
        "id": "FJl3JqJWLfIn"
      },
      "execution_count": null,
      "outputs": []
    },
    {
      "cell_type": "code",
      "source": [
        "output = llm(\n",
        "      \"Q: write a scriptinpython to say hello? A: \",\n",
        "      max_tokens=200,\n",
        "      #stop=[\"Q:\", \"\\n\"],\n",
        "      echo=True\n",
        ")\n",
        "print(output['choices'][0])"
      ],
      "metadata": {
        "colab": {
          "base_uri": "https://localhost:8080/"
        },
        "id": "BfMsJqlXLFms",
        "outputId": "3c353df1-1e20-4a57-d43c-4c747faead27"
      },
      "execution_count": 14,
      "outputs": [
        {
          "output_type": "stream",
          "name": "stderr",
          "text": [
            "Llama.generate: prefix-match hit\n",
            "\n",
            "llama_print_timings:        load time =   11375.50 ms\n",
            "llama_print_timings:      sample time =     130.00 ms /   200 runs   (    0.65 ms per token,  1538.46 tokens per second)\n",
            "llama_print_timings: prompt eval time =   14838.06 ms /    10 tokens ( 1483.81 ms per token,     0.67 tokens per second)\n",
            "llama_print_timings:        eval time =  199572.22 ms /   199 runs   ( 1002.88 ms per token,     1.00 tokens per second)\n",
            "llama_print_timings:       total time =  214860.82 ms /   209 tokens\n"
          ]
        },
        {
          "output_type": "stream",
          "name": "stdout",
          "text": [
            "{'text': 'Q: write a scriptinpython to say hello? A: Sure, I can provide you with a simple Python script that will print \"Hello World!\" when run.\\n\\n```python\\n# This is a comment in Python. It starts with the \"#\" symbol and continues until the end of the line.\\nprint(\"Hello World\")\\n```\\n\\nTo run this python script: \\n\\n1. Save your file as a .py extension (like hello_world.py)\\n2. Open your terminal or command prompt\\n3. Navigate to the directory where you saved your Python script with the `cd` command, for example, if it\\'s in your Downloads folder: \\n\\n```\\ncd Downloads/\\n```\\n4. Run the Python file using the python interpreter by typing:\\n\\n```\\npython hello_world.py\\n```\\n\\nThe output will be \"Hello World\", which is what you see when you run this script. \\n\\nThis simple program just prints out', 'index': 0, 'logprobs': None, 'finish_reason': 'length'}\n"
          ]
        }
      ]
    }
  ]
}